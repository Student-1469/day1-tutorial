{
  "cells": [
    {
      "cell_type": "markdown",
      "metadata": {
        "id": "k0PfpGDLHMhO"
      },
      "source": [
        "# Tutorial: Hello Bash and Python\n",
        "\n",
        "In this tutorial we will familiarise ourselves with bash and python, and Notebooks (inadvertantly). Please load this notebook in `colab.research.google.com` if you do not have a local instance of JupyterHub/JupyterLab running.\n",
        "\n",
        "\n",
        "Submission:\n",
        "\n",
        "The submission for this tutorial requires a submission on Git, as well as one on SUNLearn. You will receive an email to your student account asking you to create an account on Gitlab\n",
        "\n",
        "\n"
      ]
    },
    {
      "cell_type": "code",
      "execution_count": 1,
      "metadata": {
        "id": "41glN7Q0HMhR"
      },
      "outputs": [],
      "source": [
        "import pandas as pd"
      ]
    },
    {
      "cell_type": "markdown",
      "metadata": {
        "id": "_aWz-Nn2HMhS"
      },
      "source": [
        "## Question 1: Bash\n",
        "\n",
        "Retrieve data and interogate it with bash before using python tooling. This is useful as you may struggle with type or malformed files and a quick interogation may reveal those issues.\n"
      ]
    },
    {
      "cell_type": "markdown",
      "metadata": {
        "id": "tRzykuWzHMhT"
      },
      "source": [
        "### Question 1.1\n",
        "\n",
        "Run the bash command `wget` to retrieve a file located at `https://storage.googleapis.com/bdt-beam/users_v.csv` [1]"
      ]
    },
    {
      "cell_type": "code",
      "execution_count": 2,
      "metadata": {
        "colab": {
          "base_uri": "https://localhost:8080/"
        },
        "id": "IXX1leIDHMhU",
        "outputId": "5f00dad5-5fa1-4d37-9362-35988bf45929"
      },
      "outputs": [
        {
          "output_type": "stream",
          "name": "stdout",
          "text": [
            "--2024-09-09 14:11:09--  https://storage.googleapis.com/bdt-beam/users_v.csv\n",
            "Resolving storage.googleapis.com (storage.googleapis.com)... 64.233.180.207, 142.251.16.207, 172.253.62.207, ...\n",
            "Connecting to storage.googleapis.com (storage.googleapis.com)|64.233.180.207|:443... connected.\n",
            "HTTP request sent, awaiting response... 200 OK\n",
            "Length: 143675 (140K) [text/csv]\n",
            "Saving to: ‘users_v.csv’\n",
            "\n",
            "users_v.csv         100%[===================>] 140.31K   642KB/s    in 0.2s    \n",
            "\n",
            "2024-09-09 14:11:10 (642 KB/s) - ‘users_v.csv’ saved [143675/143675]\n",
            "\n"
          ]
        }
      ],
      "source": [
        "!wget https://storage.googleapis.com/bdt-beam/users_v.csv\n"
      ]
    },
    {
      "cell_type": "markdown",
      "metadata": {
        "id": "57BLmQsPHMhU"
      },
      "source": [
        "### Question 1.2\n",
        "\n",
        "Use a bash command to view the top ten elements of the file (to confirm that things are as you expect) [1]"
      ]
    },
    {
      "cell_type": "code",
      "execution_count": 3,
      "metadata": {
        "colab": {
          "base_uri": "https://localhost:8080/"
        },
        "id": "WUfq8IqXHMhV",
        "outputId": "0d59c050-3469-4627-b0c6-de8c009fc56c"
      },
      "outputs": [
        {
          "output_type": "stream",
          "name": "stdout",
          "text": [
            "user_id,name,gender,age,address,date_joined\n",
            "1,Anthony Wolf,male,73,New Rachelburgh-VA-49583,2019/03/13\n",
            "2,James Armstrong,male,56,North Jillianfort-UT-86454,2020/11/06\n",
            "3,Cody Shaw,male,75,North Anne-SC-53799,2004/05/29\n",
            "4,Sierra Hamilton,female,76,New Angelafurt-ME-46190,2005/08/26\n",
            "5,Chase Davis,male,31,South Bethmouth-WI-18562,2018/04/30\n",
            "6,Sierra Andrews,female,21,Ryanville-MI-69690,2007/05/25\n",
            "7,Ann Stone,female,41,Smithmouth-SD-17340,2005/01/05\n",
            "8,Karen Santos,female,34,Mariaville-AK-29888,2003/12/12\n",
            "9,Ronald Meyer,male,41,North Cherylhaven-NJ-04197,2015/11/14\n"
          ]
        }
      ],
      "source": [
        "!head -n 10 users_v.csv"
      ]
    },
    {
      "cell_type": "markdown",
      "metadata": {
        "id": "VJg1kSE8HMhW"
      },
      "source": [
        "### Question 1.3\n",
        "\n",
        "Use a bash command to determine the number of rows in the file [1]"
      ]
    },
    {
      "cell_type": "code",
      "execution_count": 6,
      "metadata": {
        "colab": {
          "base_uri": "https://localhost:8080/"
        },
        "id": "L_xcA8hfHMhX",
        "outputId": "8d5dfe90-f96c-44eb-96bc-d6ebb8ac4df1"
      },
      "outputs": [
        {
          "output_type": "stream",
          "name": "stdout",
          "text": [
            "2358 users_v.csv\n"
          ]
        }
      ],
      "source": [
        "!wc -l users_v.csv"
      ]
    },
    {
      "cell_type": "markdown",
      "metadata": {
        "id": "wLZ08KKVHMhX"
      },
      "source": [
        "### Question 1.4\n",
        "\n",
        "Suppose the file is too large for initial exploration, let's take a quick sample so that we can continue working to see what is in the data set. Loading it into Pandas at this point will mean that we are using all that memory in any case, so let's sample it before we load it.\n",
        "\n",
        "Take a random sample of the file (limited the result to 1000 lines) and create another file called `users_sample.csv`, using only bash commands [3]\n",
        "\n",
        "Hint: redirect a stream into a the output file."
      ]
    },
    {
      "cell_type": "code",
      "execution_count": 9,
      "metadata": {
        "id": "CLx1YiNnHMhY"
      },
      "outputs": [],
      "source": [
        "!shuf -n 1000 users_v.csv > users_sample.csv"
      ]
    },
    {
      "cell_type": "markdown",
      "metadata": {
        "id": "FH778-fVHMhZ"
      },
      "source": [
        "### Question 1.5\n",
        "\n",
        "* Sort your file by ascending `user_id`s [1]\n",
        "* Overwrite the current `users_sample.csv` with the ordered content [1]\n",
        "* Print the last ten lines of this file [1]"
      ]
    },
    {
      "cell_type": "code",
      "execution_count": 10,
      "metadata": {
        "colab": {
          "base_uri": "https://localhost:8080/"
        },
        "id": "sSWckFbSHMhZ",
        "outputId": "7cb94fce-a520-47e1-8195-fb998bf0b4bd"
      },
      "outputs": [
        {
          "output_type": "stream",
          "name": "stdout",
          "text": [
            "978,Ralph Ball,male,71,Julianshire-WV-10729,2019/09/05\n",
            "979,Edward Jones,male,80,West Annfurt-MA-25816,2002/08/20\n",
            "989,Vincent Hart,male,23,New Stevenfort-MN-15220,2015/03/11\n",
            "990,Christopher Fox,male,69,West Samanthaberg-CA-56486,2001/11/28\n",
            "992,Dorothy Jordan,female,70,West Jessestad-TX-89943,2000/12/30\n",
            "993,Elizabeth Perez,female,50,North Rebecca-MD-97897,2007/10/18\n",
            "995,Lisa Jacobs,female,31,Port Charles-OK-64370,2011/10/25\n",
            "997,Matthew Cooke,male,31,New Aaronshire-FL-31342,2015/01/02\n",
            "999,Kenneth Bryant,male,27,South Meganmouth-IL-80593,2000/04/10\n",
            "user_id,name,gender,age,address,date_joined\n"
          ]
        }
      ],
      "source": [
        "!sort -t, -k1,1 users_sample.csv -o users_sample.csv\n",
        "!tail -n 10 users_sample.csv\n"
      ]
    },
    {
      "cell_type": "markdown",
      "metadata": {
        "id": "Jdl_WFP3HMha"
      },
      "source": [
        "## Question 2: Python\n",
        "\n",
        "Perform analysis with Python"
      ]
    },
    {
      "cell_type": "markdown",
      "metadata": {
        "id": "mngojbNxHMha"
      },
      "source": [
        "### Question 2.1\n",
        "\n",
        "Load the original `users_v.csv` into a Pandas dataframe [1]"
      ]
    },
    {
      "cell_type": "code",
      "execution_count": 21,
      "metadata": {
        "id": "enL8FDG8HMhb"
      },
      "outputs": [],
      "source": [
        "import pandas as pd\n",
        "\n",
        "file = 'https://storage.googleapis.com/bdt-beam/users_v.csv'\n",
        "\n",
        "usersv = pd.read_csv(file)"
      ]
    },
    {
      "cell_type": "markdown",
      "metadata": {
        "id": "_QyvssWCHMhb"
      },
      "source": [
        "### Question 2.2\n",
        "\n",
        "Display/print the top ten lines of the dataframe [1]\n",
        "\n"
      ]
    },
    {
      "cell_type": "code",
      "execution_count": 22,
      "metadata": {
        "colab": {
          "base_uri": "https://localhost:8080/"
        },
        "id": "L7edVqyhHMhb",
        "outputId": "61a5f670-1be1-49a9-a93c-40f4bdc28325"
      },
      "outputs": [
        {
          "output_type": "stream",
          "name": "stdout",
          "text": [
            "   user_id             name  gender  age                     address  \\\n",
            "0        1     Anthony Wolf    male   73    New Rachelburgh-VA-49583   \n",
            "1        2  James Armstrong    male   56  North Jillianfort-UT-86454   \n",
            "2        3        Cody Shaw    male   75         North Anne-SC-53799   \n",
            "3        4  Sierra Hamilton  female   76     New Angelafurt-ME-46190   \n",
            "4        5      Chase Davis    male   31    South Bethmouth-WI-18562   \n",
            "5        6   Sierra Andrews  female   21          Ryanville-MI-69690   \n",
            "6        7        Ann Stone  female   41         Smithmouth-SD-17340   \n",
            "7        8     Karen Santos  female   34         Mariaville-AK-29888   \n",
            "8        9     Ronald Meyer    male   41  North Cherylhaven-NJ-04197   \n",
            "9       10    Steven Rivera    male   43          Wayneside-VT-29040   \n",
            "\n",
            "  date_joined  \n",
            "0  2019/03/13  \n",
            "1  2020/11/06  \n",
            "2  2004/05/29  \n",
            "3  2005/08/26  \n",
            "4  2018/04/30  \n",
            "5  2007/05/25  \n",
            "6  2005/01/05  \n",
            "7  2003/12/12  \n",
            "8  2015/11/14  \n",
            "9  2003/05/15  \n"
          ]
        }
      ],
      "source": [
        "print(usersv.head(10))"
      ]
    },
    {
      "cell_type": "markdown",
      "metadata": {
        "id": "GnGoOPgwHMhc"
      },
      "source": [
        "### Question 2.3\n",
        "\n",
        "Find the age of the oldest and youngest person in the dataset [1]\n",
        "\n",
        "Hint: you can use the `print(..., ...)` function to display the two values if you construct it as two arguments"
      ]
    },
    {
      "cell_type": "code",
      "execution_count": 17,
      "metadata": {
        "colab": {
          "base_uri": "https://localhost:8080/"
        },
        "id": "JZdKOh4NHMhc",
        "outputId": "24050fae-63a6-4d8b-d9cc-5a2ea3d0152f"
      },
      "outputs": [
        {
          "output_type": "stream",
          "name": "stdout",
          "text": [
            "80 18\n"
          ]
        }
      ],
      "source": [
        "old = usersv['age'].max()\n",
        "young = usersv['age'].min()\n",
        "\n",
        "print(f\"{old}\", f\"{young}\")"
      ]
    },
    {
      "cell_type": "markdown",
      "metadata": {
        "id": "rrwtdsCIHMhc"
      },
      "source": [
        "### Question 2.4\n",
        "\n",
        "Draw descriptive statistics (one-liner) for the `age` column - these statistics should include `count`, `mean`, and `std` [1]\n",
        "\n",
        "Hint: this command has a parallel in R"
      ]
    },
    {
      "cell_type": "code",
      "execution_count": 18,
      "metadata": {
        "colab": {
          "base_uri": "https://localhost:8080/",
          "height": 178
        },
        "id": "tAdrXifUHMhc",
        "outputId": "290b6168-25db-4601-b113-f7a8b060a823"
      },
      "outputs": [
        {
          "output_type": "execute_result",
          "data": {
            "text/plain": [
              "count    2357.000000\n",
              "mean       49.054731\n",
              "std        18.206348\n",
              "Name: age, dtype: float64"
            ],
            "text/html": [
              "<div>\n",
              "<style scoped>\n",
              "    .dataframe tbody tr th:only-of-type {\n",
              "        vertical-align: middle;\n",
              "    }\n",
              "\n",
              "    .dataframe tbody tr th {\n",
              "        vertical-align: top;\n",
              "    }\n",
              "\n",
              "    .dataframe thead th {\n",
              "        text-align: right;\n",
              "    }\n",
              "</style>\n",
              "<table border=\"1\" class=\"dataframe\">\n",
              "  <thead>\n",
              "    <tr style=\"text-align: right;\">\n",
              "      <th></th>\n",
              "      <th>age</th>\n",
              "    </tr>\n",
              "  </thead>\n",
              "  <tbody>\n",
              "    <tr>\n",
              "      <th>count</th>\n",
              "      <td>2357.000000</td>\n",
              "    </tr>\n",
              "    <tr>\n",
              "      <th>mean</th>\n",
              "      <td>49.054731</td>\n",
              "    </tr>\n",
              "    <tr>\n",
              "      <th>std</th>\n",
              "      <td>18.206348</td>\n",
              "    </tr>\n",
              "  </tbody>\n",
              "</table>\n",
              "</div><br><label><b>dtype:</b> float64</label>"
            ]
          },
          "metadata": {},
          "execution_count": 18
        }
      ],
      "source": [
        "usersv['age'].describe()[['count', 'mean', 'std']]"
      ]
    },
    {
      "cell_type": "markdown",
      "metadata": {
        "id": "DWcF2-gaHMhd"
      },
      "source": [
        "### Question 2.5\n",
        "\n",
        "* Using anonymous functions (`lambda`), create a `surname` column from the name column (you may assume that the last word without a space is the surname) [2]\n",
        "* Display the last 10 lines of your dataframe [1]\n"
      ]
    },
    {
      "cell_type": "code",
      "execution_count": 20,
      "metadata": {
        "colab": {
          "base_uri": "https://localhost:8080/"
        },
        "id": "Cod94P_aHMhd",
        "outputId": "dc6b046f-a51d-462e-a13f-7cfa4a77894b"
      },
      "outputs": [
        {
          "output_type": "stream",
          "name": "stdout",
          "text": [
            "      user_id                 name  gender  age                    address  \\\n",
            "2347     2348     Victoria Edwards  female   68    Lake Jamesberg-NY-88824   \n",
            "2348     2349          Chris Ellis    male   46  Port Richardside-NY-77994   \n",
            "2349     2350       Kimberly Smith  female   19      East Anthony-GA-00646   \n",
            "2350     2351       William Nelson    male   67   Lake Parkerside-MN-06905   \n",
            "2351     2352          Nancy Clark  female   80        Jamesshire-AK-88437   \n",
            "2352     2353      Brittney Graham  female   40         Brownland-CO-71229   \n",
            "2353     2354      Allison Schmidt  female   43        Port Logan-MD-38588   \n",
            "2354     2355  Christopher Johnson    male   68   North Justinton-VA-32798   \n",
            "2355     2356           Mark Brown    male   67    New Kayleefurt-MA-82581   \n",
            "2356     2357      Steven Robinson    male   45         Mistytown-HI-31737   \n",
            "\n",
            "     date_joined   surname  \n",
            "2347  2001/09/03   Edwards  \n",
            "2348  2011/03/18     Ellis  \n",
            "2349  2021/06/20     Smith  \n",
            "2350  2005/12/21    Nelson  \n",
            "2351  2001/12/12     Clark  \n",
            "2352  2005/07/10    Graham  \n",
            "2353  2008/11/30   Schmidt  \n",
            "2354  2006/08/01   Johnson  \n",
            "2355  2013/11/16     Brown  \n",
            "2356  2015/03/21  Robinson  \n"
          ]
        }
      ],
      "source": [
        "usersv['surname'] = usersv['name'].apply(lambda x: x.split()[-1])\n",
        "\n",
        "print(usersv.tail(10))"
      ]
    },
    {
      "cell_type": "markdown",
      "metadata": {
        "id": "oDS5INGeHMhd"
      },
      "source": [
        "### Question 2.6\n",
        "\n",
        "* Convert `date_joined` to a pandas series of type `datetime`  [1]\n",
        "* Overwrite the original `date_joined` column with the result [1]"
      ]
    },
    {
      "cell_type": "code",
      "execution_count": 24,
      "metadata": {
        "id": "0s-Ir9yaHMhe"
      },
      "outputs": [],
      "source": [
        "usersv['date_joined'] = pd.to_datetime(usersv['date_joined'])"
      ]
    },
    {
      "cell_type": "code",
      "execution_count": null,
      "metadata": {
        "id": "csOnFcWaHMhe"
      },
      "outputs": [],
      "source": [
        "usersv['date_joined'] = pd.to_datetime(usersv['date_joined'])"
      ]
    },
    {
      "cell_type": "markdown",
      "metadata": {
        "id": "CMSeoLvDHMhe"
      },
      "source": [
        "## Question 3: Git\n",
        "\n",
        "Push your notebook to Git. If you don't have any Git tooling installed on your machines, download a preferred tool.\n",
        "\n",
        " * Create a repository (named `day1-tutorial`) on Gitlab (check your student email for sign-up/membership request to Gitlab) [1]\n",
        " * Push this notebook to that repository [1]"
      ]
    },
    {
      "cell_type": "code",
      "execution_count": null,
      "metadata": {
        "id": "I8NosL1yHMhe"
      },
      "outputs": [],
      "source": []
    },
    {
      "cell_type": "markdown",
      "metadata": {
        "id": "VS8twVuJHMhe"
      },
      "source": [
        "## The End\n",
        "\n",
        "Now that it is a datetime, we can how many users signed up/registered."
      ]
    },
    {
      "cell_type": "code",
      "execution_count": null,
      "metadata": {
        "id": "8pGzLhGdHMhe"
      },
      "outputs": [],
      "source": [
        "import matplotlib\n",
        "\n",
        "%matplotlib inline\n",
        "\n",
        "df.user_id.groupby([df.date_joined.dt.year]).count().plot(kind=\"bar\")"
      ]
    },
    {
      "cell_type": "code",
      "execution_count": null,
      "metadata": {
        "id": "7GEcG1-zHMhe"
      },
      "outputs": [],
      "source": []
    }
  ],
  "metadata": {
    "kernelspec": {
      "display_name": "bdt-a3",
      "language": "python",
      "name": "bdt-a3"
    },
    "language_info": {
      "codemirror_mode": {
        "name": "ipython",
        "version": 3
      },
      "file_extension": ".py",
      "mimetype": "text/x-python",
      "name": "python",
      "nbconvert_exporter": "python",
      "pygments_lexer": "ipython3",
      "version": "3.6.9"
    },
    "colab": {
      "provenance": []
    }
  },
  "nbformat": 4,
  "nbformat_minor": 0
}